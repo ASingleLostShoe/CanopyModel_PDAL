{
 "cells": [
  {
   "cell_type": "code",
   "execution_count": 1,
   "metadata": {},
   "outputs": [],
   "source": [
    "\n",
    "json = \"\"\"\n",
    "[    \n",
    "    {\n",
    "        \"type\":\"readers.las\",\n",
    "        \"filename\":\"Test.laz\",\n",
    "        \"compression\":\"laszip\"\n",
    "    },\n",
    "    {\n",
    "        \"type\":\"filters.csf\"\n",
    "    },\n",
    "    {\n",
    "        \"type\":\"filters.hag_nn\"\n",
    "    },\n",
    "    {\n",
    "        \"type\":\"filters.delaunay\"\n",
    "    },\n",
    "    {\n",
    "        \"type\":\"filters.faceraster\",\n",
    "        \"resolution\":5\n",
    "    },\n",
    "    {\n",
    "        \"type\":\"writers.raster\",\n",
    "        \"filename\":\"test.tif\"\n",
    "    }\n",
    "]\n",
    "\"\"\"\n",
    "\n",
    "import pdal\n",
    "\n",
    "pipeline = pdal.Pipeline(json)\n",
    "\n",
    "\n",
    "\n"
   ]
  },
  {
   "cell_type": "code",
   "execution_count": 2,
   "metadata": {},
   "outputs": [
    {
     "data": {
      "text/plain": [
       "13488636"
      ]
     },
     "execution_count": 2,
     "metadata": {},
     "output_type": "execute_result"
    }
   ],
   "source": [
    "pipeline.execute()"
   ]
  }
 ],
 "metadata": {
  "kernelspec": {
   "display_name": "Python 3",
   "language": "python",
   "name": "python3"
  },
  "language_info": {
   "codemirror_mode": {
    "name": "ipython",
    "version": 3
   },
   "file_extension": ".py",
   "mimetype": "text/x-python",
   "name": "python",
   "nbconvert_exporter": "python",
   "pygments_lexer": "ipython3",
   "version": "3.11.6"
  }
 },
 "nbformat": 4,
 "nbformat_minor": 2
}
